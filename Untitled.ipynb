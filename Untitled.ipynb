{
 "cells": [
  {
   "cell_type": "code",
   "execution_count": 1,
   "id": "fe8a518e-50b2-4799-b48e-e9b8c80041f1",
   "metadata": {},
   "outputs": [],
   "source": [
    "import pandas as pd"
   ]
  },
  {
   "cell_type": "code",
   "execution_count": 2,
   "id": "09543186-96d1-49a1-b8d3-062da9835cdb",
   "metadata": {},
   "outputs": [],
   "source": [
    "file_path = 'C:\\\\Users\\\\Lenovo\\\\salsaseva-DM 2024\\\\dataKasus-1.xlsx'\n",
    "xls = pd.ExcelFile(file_path)"
   ]
  },
  {
   "cell_type": "code",
   "execution_count": 3,
   "id": "f6b8d1d6-21de-4dee-b884-67859cc83507",
   "metadata": {},
   "outputs": [],
   "source": [
    "df = pd.read_excel(xls, sheet_name='2022')"
   ]
  },
  {
   "cell_type": "code",
   "execution_count": 4,
   "id": "7f7bd5a8-90a5-4a44-8f36-02b306a52cc1",
   "metadata": {},
   "outputs": [],
   "source": [
    "df = df.drop(columns=[\"NO\", \"NAMA\", \"Unnamed: 12\"])"
   ]
  },
  {
   "cell_type": "code",
   "execution_count": 5,
   "id": "ada58065-32a5-43f8-83b9-e61e0f333490",
   "metadata": {},
   "outputs": [],
   "source": [
    "df['USIA'] = df['USIA'].astype(str).str.extract(r'(\\d+)').astype(float)"
   ]
  },
  {
   "cell_type": "code",
   "execution_count": 6,
   "id": "7ece67e7-0089-4e40-99e1-0bbf3ef81628",
   "metadata": {},
   "outputs": [],
   "source": [
    "df = df.dropna(subset=['USIA'])"
   ]
  },
  {
   "cell_type": "code",
   "execution_count": 7,
   "id": "c30b4b47-3000-48bd-8fef-d48166ff53e1",
   "metadata": {},
   "outputs": [],
   "source": [
    "columns_to_check = [\"PARITAS\", \"JARAK KELAHIRAN\", \"RIW HIPERTENSI\", \"RIW PE\", \"OBESITAS\", \n",
    "                    \"RIW DM\", \"RIW HIPERTENSI/PE DALAM KELUARGA\", \"SOSEK RENDAH\", \"PE/Non PE\"]"
   ]
  },
  {
   "cell_type": "code",
   "execution_count": 8,
   "id": "8ca2a776-3996-48b4-b5aa-22810b877ac3",
   "metadata": {},
   "outputs": [],
   "source": [
    "for col in columns_to_check:\n",
    "    df[col] = df[col].astype('category').cat.codes"
   ]
  },
  {
   "cell_type": "code",
   "execution_count": 9,
   "id": "4272302b-33f4-433c-9cfe-230800c7d110",
   "metadata": {},
   "outputs": [
    {
     "name": "stdout",
     "output_type": "stream",
     "text": [
      "   USIA  PARITAS  JARAK KELAHIRAN  RIW HIPERTENSI  RIW PE  OBESITAS  RIW DM  \\\n",
      "0  23.0        3                0               0       9         0       1   \n",
      "1  29.0        2                0               0       7         0       0   \n",
      "2  20.0        1                3               0       9         0       0   \n",
      "3  18.0        1                3               0       9         0       0   \n",
      "4  34.0        3                2               0       9         0       0   \n",
      "\n",
      "   RIW HIPERTENSI/PE DALAM KELUARGA  SOSEK RENDAH  PE/Non PE  \n",
      "0                                 1             1          1  \n",
      "1                                 0             1          2  \n",
      "2                                 1             1          1  \n",
      "3                                 1             1          1  \n",
      "4                                 1             1          1  \n"
     ]
    }
   ],
   "source": [
    "print(df.head())"
   ]
  },
  {
   "cell_type": "code",
   "execution_count": 10,
   "id": "5b577e4e-95ec-48d6-a4d8-dfa5d4e3361e",
   "metadata": {},
   "outputs": [],
   "source": [
    "analysis = {}\n",
    "for col in df.columns:\n",
    "    analysis[col] = {\n",
    "        \"unique_values\": df[col].unique(),\n",
    "        \"num_missing\": df[col].isnull().sum(),\n",
    "        \"data_type\": df[col].dtype,\n",
    "        \"description\": df[col].describe()\n",
    "    }"
   ]
  },
  {
   "cell_type": "code",
   "execution_count": 11,
   "id": "1d2d9e5f-12cc-4428-bc2b-7ff4be52436f",
   "metadata": {},
   "outputs": [
    {
     "name": "stdout",
     "output_type": "stream",
     "text": [
      "Analisis untuk kolom: USIA\n",
      "Tipe Data: float64\n",
      "Jumlah Nilai Hilang: 0\n",
      "Nilai Unik: [23. 29. 20. 18. 34. 28. 36. 39. 37. 16. 24. 31. 35. 13. 21. 40. 25. 27.\n",
      " 26. 30. 38. 33. 22. 41. 15. 19. 17. 32. 43. 14.]\n",
      "Deskripsi: \n",
      "count    558.000000\n",
      "mean      28.154122\n",
      "std        5.923926\n",
      "min       13.000000\n",
      "25%       24.000000\n",
      "50%       28.000000\n",
      "75%       32.000000\n",
      "max       43.000000\n",
      "Name: USIA, dtype: float64\n",
      "\n",
      "========================================\n",
      "\n",
      "Analisis untuk kolom: PARITAS\n",
      "Tipe Data: int8\n",
      "Jumlah Nilai Hilang: 0\n",
      "Nilai Unik: [3 2 1 4 0 5 6]\n",
      "Deskripsi: \n",
      "count    558.000000\n",
      "mean       1.713262\n",
      "std        1.013483\n",
      "min        0.000000\n",
      "25%        1.000000\n",
      "50%        2.000000\n",
      "75%        2.000000\n",
      "max        6.000000\n",
      "Name: PARITAS, dtype: float64\n",
      "\n",
      "========================================\n",
      "\n",
      "Analisis untuk kolom: JARAK KELAHIRAN\n",
      "Tipe Data: int8\n",
      "Jumlah Nilai Hilang: 0\n",
      "Nilai Unik: [ 0  3  2 -1  1]\n",
      "Deskripsi: \n",
      "count    558.000000\n",
      "mean       2.129032\n",
      "std        1.069161\n",
      "min       -1.000000\n",
      "25%        2.000000\n",
      "50%        2.000000\n",
      "75%        3.000000\n",
      "max        3.000000\n",
      "Name: JARAK KELAHIRAN, dtype: float64\n",
      "\n",
      "========================================\n",
      "\n",
      "Analisis untuk kolom: RIW HIPERTENSI\n",
      "Tipe Data: int8\n",
      "Jumlah Nilai Hilang: 0\n",
      "Nilai Unik: [0 1]\n",
      "Deskripsi: \n",
      "count    558.000000\n",
      "mean       0.094982\n",
      "std        0.293453\n",
      "min        0.000000\n",
      "25%        0.000000\n",
      "50%        0.000000\n",
      "75%        0.000000\n",
      "max        1.000000\n",
      "Name: RIW HIPERTENSI, dtype: float64\n",
      "\n",
      "========================================\n",
      "\n",
      "Analisis untuk kolom: RIW PE\n",
      "Tipe Data: int8\n",
      "Jumlah Nilai Hilang: 0\n",
      "Nilai Unik: [ 9  7  2  5  4 10  0  6  3  8  1]\n",
      "Deskripsi: \n",
      "count    558.000000\n",
      "mean       8.793907\n",
      "std        0.976657\n",
      "min        0.000000\n",
      "25%        9.000000\n",
      "50%        9.000000\n",
      "75%        9.000000\n",
      "max       10.000000\n",
      "Name: RIW PE, dtype: float64\n",
      "\n",
      "========================================\n",
      "\n",
      "Analisis untuk kolom: OBESITAS\n",
      "Tipe Data: int8\n",
      "Jumlah Nilai Hilang: 0\n",
      "Nilai Unik: [0 1]\n",
      "Deskripsi: \n",
      "count    558.000000\n",
      "mean       0.008961\n",
      "std        0.094320\n",
      "min        0.000000\n",
      "25%        0.000000\n",
      "50%        0.000000\n",
      "75%        0.000000\n",
      "max        1.000000\n",
      "Name: OBESITAS, dtype: float64\n",
      "\n",
      "========================================\n",
      "\n",
      "Analisis untuk kolom: RIW DM\n",
      "Tipe Data: int8\n",
      "Jumlah Nilai Hilang: 0\n",
      "Nilai Unik: [1 0]\n",
      "Deskripsi: \n",
      "count    558.000000\n",
      "mean       0.008961\n",
      "std        0.094320\n",
      "min        0.000000\n",
      "25%        0.000000\n",
      "50%        0.000000\n",
      "75%        0.000000\n",
      "max        1.000000\n",
      "Name: RIW DM, dtype: float64\n",
      "\n",
      "========================================\n",
      "\n",
      "Analisis untuk kolom: RIW HIPERTENSI/PE DALAM KELUARGA\n",
      "Tipe Data: int8\n",
      "Jumlah Nilai Hilang: 0\n",
      "Nilai Unik: [1 0]\n",
      "Deskripsi: \n",
      "count    558.000000\n",
      "mean       0.980287\n",
      "std        0.139138\n",
      "min        0.000000\n",
      "25%        1.000000\n",
      "50%        1.000000\n",
      "75%        1.000000\n",
      "max        1.000000\n",
      "Name: RIW HIPERTENSI/PE DALAM KELUARGA, dtype: float64\n",
      "\n",
      "========================================\n",
      "\n",
      "Analisis untuk kolom: SOSEK RENDAH\n",
      "Tipe Data: int8\n",
      "Jumlah Nilai Hilang: 0\n",
      "Nilai Unik: [1 0]\n",
      "Deskripsi: \n",
      "count    558.000000\n",
      "mean       0.992832\n",
      "std        0.084438\n",
      "min        0.000000\n",
      "25%        1.000000\n",
      "50%        1.000000\n",
      "75%        1.000000\n",
      "max        1.000000\n",
      "Name: SOSEK RENDAH, dtype: float64\n",
      "\n",
      "========================================\n",
      "\n",
      "Analisis untuk kolom: PE/Non PE\n",
      "Tipe Data: int8\n",
      "Jumlah Nilai Hilang: 0\n",
      "Nilai Unik: [1 2 5 0 4 6 3]\n",
      "Deskripsi: \n",
      "count    558.000000\n",
      "mean       1.189964\n",
      "std        0.799308\n",
      "min        0.000000\n",
      "25%        1.000000\n",
      "50%        1.000000\n",
      "75%        1.000000\n",
      "max        6.000000\n",
      "Name: PE/Non PE, dtype: float64\n",
      "\n",
      "========================================\n",
      "\n"
     ]
    }
   ],
   "source": [
    "for col, stats in analysis.items():\n",
    "    print(f\"Analisis untuk kolom: {col}\")\n",
    "    print(f\"Tipe Data: {stats['data_type']}\")\n",
    "    print(f\"Jumlah Nilai Hilang: {stats['num_missing']}\")\n",
    "    print(f\"Nilai Unik: {stats['unique_values']}\")\n",
    "    print(f\"Deskripsi: \\n{stats['description']}\")\n",
    "    print(\"\\n\" + \"=\"*40 + \"\\n\")"
   ]
  },
  {
   "cell_type": "code",
   "execution_count": 12,
   "id": "8c846222-390d-49c8-b8b5-2c1ea271a171",
   "metadata": {},
   "outputs": [
    {
     "name": "stdout",
     "output_type": "stream",
     "text": [
      "   USIA  PARITAS  JARAK KELAHIRAN  RIW HIPERTENSI  RIW PE  OBESITAS  RIW DM  \\\n",
      "0  23.0        3                0               0       9         0       1   \n",
      "1  29.0        2                0               0       7         0       0   \n",
      "2  20.0        1                3               0       9         0       0   \n",
      "3  18.0        1                3               0       9         0       0   \n",
      "4  34.0        3                2               0       9         0       0   \n",
      "\n",
      "   RIW HIPERTENSI/PE DALAM KELUARGA  SOSEK RENDAH  PE/Non PE  \n",
      "0                                 1             1          1  \n",
      "1                                 0             1          2  \n",
      "2                                 1             1          1  \n",
      "3                                 1             1          1  \n",
      "4                                 1             1          1  \n"
     ]
    }
   ],
   "source": [
    "print(df.head())"
   ]
  },
  {
   "cell_type": "code",
   "execution_count": null,
   "id": "ad2110f0-bcfa-4928-af44-9077cfcc757f",
   "metadata": {},
   "outputs": [],
   "source": []
  }
 ],
 "metadata": {
  "kernelspec": {
   "display_name": "Python 3 (ipykernel)",
   "language": "python",
   "name": "python3"
  },
  "language_info": {
   "codemirror_mode": {
    "name": "ipython",
    "version": 3
   },
   "file_extension": ".py",
   "mimetype": "text/x-python",
   "name": "python",
   "nbconvert_exporter": "python",
   "pygments_lexer": "ipython3",
   "version": "3.12.6"
  }
 },
 "nbformat": 4,
 "nbformat_minor": 5
}
